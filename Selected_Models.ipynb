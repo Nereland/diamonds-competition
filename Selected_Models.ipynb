{
 "cells": [
  {
   "cell_type": "code",
   "execution_count": 55,
   "metadata": {},
   "outputs": [],
   "source": [
    "import pandas as pd\n",
    "import seaborn as sns\n",
    "import matplotlib as plt\n",
    "import sklearn\n",
    "from sklearn.preprocessing import StandardScaler, Normalizer\n",
    "from sklearn.pipeline import make_pipeline\n",
    "from sklearn import linear_model\n",
    "from sklearn.model_selection import train_test_split\n",
    "from sklearn.neural_network import MLPRegressor\n",
    "from sklearn.neighbors import KNeighborsRegressor\n",
    "from sklearn.metrics import mean_squared_error\n",
    "\n"
   ]
  },
  {
   "cell_type": "code",
   "execution_count": 56,
   "metadata": {},
   "outputs": [],
   "source": [
    "diam = pd.read_csv(\"outputs/diam.csv\")\n",
    "diammorv =  pd.read_csv(\"outputs/diammoreV.csv\")"
   ]
  },
  {
   "cell_type": "code",
   "execution_count": 57,
   "metadata": {},
   "outputs": [],
   "source": [
    "predict1 = pd.read_csv(\"outputs/predict1.csv\")\n",
    "predict2 = pd.read_csv(\"outputs/predict.csv\")"
   ]
  },
  {
   "cell_type": "code",
   "execution_count": 58,
   "metadata": {},
   "outputs": [],
   "source": [
    "X = diam[[\"carat\",\"x\",\"y\",\"z\",\"labcol\"]]\n",
    "y = diam[\"price\"]"
   ]
  },
  {
   "cell_type": "markdown",
   "metadata": {},
   "source": [
    "## Testing with diam, which has fewer variables"
   ]
  },
  {
   "cell_type": "code",
   "execution_count": 59,
   "metadata": {},
   "outputs": [],
   "source": [
    "pipeline = [\n",
    "    StandardScaler(),\n",
    "    Normalizer()\n",
    "]\n",
    "\n",
    "tr = make_pipeline(*pipeline)"
   ]
  },
  {
   "cell_type": "code",
   "execution_count": 60,
   "metadata": {},
   "outputs": [],
   "source": [
    "X_ready = tr.fit_transform(X)\n",
    "X_ready = pd.DataFrame(X_ready, columns=X.columns)"
   ]
  },
  {
   "cell_type": "code",
   "execution_count": 61,
   "metadata": {},
   "outputs": [
    {
     "data": {
      "text/plain": [
       "(40455, 5)"
      ]
     },
     "execution_count": 61,
     "metadata": {},
     "output_type": "execute_result"
    }
   ],
   "source": [
    "X_ready.shape\n"
   ]
  },
  {
   "cell_type": "code",
   "execution_count": 62,
   "metadata": {},
   "outputs": [
    {
     "data": {
      "text/html": [
       "<div>\n",
       "<style scoped>\n",
       "    .dataframe tbody tr th:only-of-type {\n",
       "        vertical-align: middle;\n",
       "    }\n",
       "\n",
       "    .dataframe tbody tr th {\n",
       "        vertical-align: top;\n",
       "    }\n",
       "\n",
       "    .dataframe thead th {\n",
       "        text-align: right;\n",
       "    }\n",
       "</style>\n",
       "<table border=\"1\" class=\"dataframe\">\n",
       "  <thead>\n",
       "    <tr style=\"text-align: right;\">\n",
       "      <th></th>\n",
       "      <th>carat</th>\n",
       "      <th>x</th>\n",
       "      <th>y</th>\n",
       "      <th>z</th>\n",
       "      <th>labcol</th>\n",
       "    </tr>\n",
       "  </thead>\n",
       "  <tbody>\n",
       "    <tr>\n",
       "      <th>0</th>\n",
       "      <td>-0.436562</td>\n",
       "      <td>-0.533047</td>\n",
       "      <td>-0.513415</td>\n",
       "      <td>-0.490200</td>\n",
       "      <td>-0.146230</td>\n",
       "    </tr>\n",
       "    <tr>\n",
       "      <th>1</th>\n",
       "      <td>-0.418022</td>\n",
       "      <td>-0.489513</td>\n",
       "      <td>-0.467011</td>\n",
       "      <td>-0.449514</td>\n",
       "      <td>-0.406782</td>\n",
       "    </tr>\n",
       "    <tr>\n",
       "      <th>2</th>\n",
       "      <td>-0.356314</td>\n",
       "      <td>-0.389482</td>\n",
       "      <td>-0.362383</td>\n",
       "      <td>-0.411148</td>\n",
       "      <td>-0.648830</td>\n",
       "    </tr>\n",
       "    <tr>\n",
       "      <th>3</th>\n",
       "      <td>-0.436704</td>\n",
       "      <td>-0.468080</td>\n",
       "      <td>-0.448659</td>\n",
       "      <td>-0.452613</td>\n",
       "      <td>0.428996</td>\n",
       "    </tr>\n",
       "    <tr>\n",
       "      <th>4</th>\n",
       "      <td>0.132667</td>\n",
       "      <td>0.201605</td>\n",
       "      <td>0.210257</td>\n",
       "      <td>0.165356</td>\n",
       "      <td>-0.932847</td>\n",
       "    </tr>\n",
       "    <tr>\n",
       "      <th>...</th>\n",
       "      <td>...</td>\n",
       "      <td>...</td>\n",
       "      <td>...</td>\n",
       "      <td>...</td>\n",
       "      <td>...</td>\n",
       "    </tr>\n",
       "    <tr>\n",
       "      <th>40450</th>\n",
       "      <td>-0.372158</td>\n",
       "      <td>-0.433984</td>\n",
       "      <td>-0.417569</td>\n",
       "      <td>-0.425004</td>\n",
       "      <td>-0.564060</td>\n",
       "    </tr>\n",
       "    <tr>\n",
       "      <th>40451</th>\n",
       "      <td>-0.370122</td>\n",
       "      <td>-0.442504</td>\n",
       "      <td>-0.423046</td>\n",
       "      <td>-0.445366</td>\n",
       "      <td>-0.538406</td>\n",
       "    </tr>\n",
       "    <tr>\n",
       "      <th>40452</th>\n",
       "      <td>-0.522003</td>\n",
       "      <td>-0.510998</td>\n",
       "      <td>-0.487171</td>\n",
       "      <td>-0.444108</td>\n",
       "      <td>0.178401</td>\n",
       "    </tr>\n",
       "    <tr>\n",
       "      <th>40453</th>\n",
       "      <td>-0.480081</td>\n",
       "      <td>-0.534965</td>\n",
       "      <td>-0.513086</td>\n",
       "      <td>-0.449234</td>\n",
       "      <td>0.135155</td>\n",
       "    </tr>\n",
       "    <tr>\n",
       "      <th>40454</th>\n",
       "      <td>0.584614</td>\n",
       "      <td>0.451742</td>\n",
       "      <td>0.453046</td>\n",
       "      <td>0.462727</td>\n",
       "      <td>0.186517</td>\n",
       "    </tr>\n",
       "  </tbody>\n",
       "</table>\n",
       "<p>40455 rows × 5 columns</p>\n",
       "</div>"
      ],
      "text/plain": [
       "          carat         x         y         z    labcol\n",
       "0     -0.436562 -0.533047 -0.513415 -0.490200 -0.146230\n",
       "1     -0.418022 -0.489513 -0.467011 -0.449514 -0.406782\n",
       "2     -0.356314 -0.389482 -0.362383 -0.411148 -0.648830\n",
       "3     -0.436704 -0.468080 -0.448659 -0.452613  0.428996\n",
       "4      0.132667  0.201605  0.210257  0.165356 -0.932847\n",
       "...         ...       ...       ...       ...       ...\n",
       "40450 -0.372158 -0.433984 -0.417569 -0.425004 -0.564060\n",
       "40451 -0.370122 -0.442504 -0.423046 -0.445366 -0.538406\n",
       "40452 -0.522003 -0.510998 -0.487171 -0.444108  0.178401\n",
       "40453 -0.480081 -0.534965 -0.513086 -0.449234  0.135155\n",
       "40454  0.584614  0.451742  0.453046  0.462727  0.186517\n",
       "\n",
       "[40455 rows x 5 columns]"
      ]
     },
     "execution_count": 62,
     "metadata": {},
     "output_type": "execute_result"
    }
   ],
   "source": [
    "X_ready"
   ]
  },
  {
   "cell_type": "code",
   "execution_count": 63,
   "metadata": {},
   "outputs": [],
   "source": [
    "X_train, X_test, y_train, y_test = train_test_split(X_ready, y, test_size=0.2)"
   ]
  },
  {
   "cell_type": "markdown",
   "metadata": {},
   "source": [
    "## Testing with diammorev, which has more variables"
   ]
  },
  {
   "cell_type": "code",
   "execution_count": 64,
   "metadata": {},
   "outputs": [
    {
     "data": {
      "text/html": [
       "<div>\n",
       "<style scoped>\n",
       "    .dataframe tbody tr th:only-of-type {\n",
       "        vertical-align: middle;\n",
       "    }\n",
       "\n",
       "    .dataframe tbody tr th {\n",
       "        vertical-align: top;\n",
       "    }\n",
       "\n",
       "    .dataframe thead th {\n",
       "        text-align: right;\n",
       "    }\n",
       "</style>\n",
       "<table border=\"1\" class=\"dataframe\">\n",
       "  <thead>\n",
       "    <tr style=\"text-align: right;\">\n",
       "      <th></th>\n",
       "      <th>carat</th>\n",
       "      <th>x</th>\n",
       "      <th>y</th>\n",
       "      <th>z</th>\n",
       "      <th>price</th>\n",
       "      <th>labcol</th>\n",
       "      <th>labcut</th>\n",
       "      <th>labclar</th>\n",
       "    </tr>\n",
       "  </thead>\n",
       "  <tbody>\n",
       "    <tr>\n",
       "      <th>0</th>\n",
       "      <td>0.30</td>\n",
       "      <td>4.29</td>\n",
       "      <td>4.31</td>\n",
       "      <td>2.70</td>\n",
       "      <td>605</td>\n",
       "      <td>2</td>\n",
       "      <td>4</td>\n",
       "      <td>5</td>\n",
       "    </tr>\n",
       "    <tr>\n",
       "      <th>1</th>\n",
       "      <td>0.34</td>\n",
       "      <td>4.46</td>\n",
       "      <td>4.49</td>\n",
       "      <td>2.80</td>\n",
       "      <td>565</td>\n",
       "      <td>1</td>\n",
       "      <td>2</td>\n",
       "      <td>2</td>\n",
       "    </tr>\n",
       "    <tr>\n",
       "      <th>2</th>\n",
       "      <td>0.40</td>\n",
       "      <td>4.70</td>\n",
       "      <td>4.75</td>\n",
       "      <td>2.85</td>\n",
       "      <td>720</td>\n",
       "      <td>0</td>\n",
       "      <td>4</td>\n",
       "      <td>2</td>\n",
       "    </tr>\n",
       "    <tr>\n",
       "      <th>3</th>\n",
       "      <td>0.40</td>\n",
       "      <td>4.72</td>\n",
       "      <td>4.74</td>\n",
       "      <td>2.92</td>\n",
       "      <td>793</td>\n",
       "      <td>4</td>\n",
       "      <td>3</td>\n",
       "      <td>4</td>\n",
       "    </tr>\n",
       "    <tr>\n",
       "      <th>4</th>\n",
       "      <td>0.90</td>\n",
       "      <td>6.10</td>\n",
       "      <td>6.13</td>\n",
       "      <td>3.73</td>\n",
       "      <td>4381</td>\n",
       "      <td>0</td>\n",
       "      <td>4</td>\n",
       "      <td>2</td>\n",
       "    </tr>\n",
       "    <tr>\n",
       "      <th>...</th>\n",
       "      <td>...</td>\n",
       "      <td>...</td>\n",
       "      <td>...</td>\n",
       "      <td>...</td>\n",
       "      <td>...</td>\n",
       "      <td>...</td>\n",
       "      <td>...</td>\n",
       "      <td>...</td>\n",
       "    </tr>\n",
       "    <tr>\n",
       "      <th>40450</th>\n",
       "      <td>0.32</td>\n",
       "      <td>4.41</td>\n",
       "      <td>4.43</td>\n",
       "      <td>2.72</td>\n",
       "      <td>862</td>\n",
       "      <td>0</td>\n",
       "      <td>2</td>\n",
       "      <td>4</td>\n",
       "    </tr>\n",
       "    <tr>\n",
       "      <th>40451</th>\n",
       "      <td>0.30</td>\n",
       "      <td>4.32</td>\n",
       "      <td>4.35</td>\n",
       "      <td>2.64</td>\n",
       "      <td>710</td>\n",
       "      <td>0</td>\n",
       "      <td>2</td>\n",
       "      <td>5</td>\n",
       "    </tr>\n",
       "    <tr>\n",
       "      <th>40452</th>\n",
       "      <td>0.47</td>\n",
       "      <td>4.97</td>\n",
       "      <td>4.99</td>\n",
       "      <td>3.12</td>\n",
       "      <td>931</td>\n",
       "      <td>3</td>\n",
       "      <td>3</td>\n",
       "      <td>2</td>\n",
       "    </tr>\n",
       "    <tr>\n",
       "      <th>40453</th>\n",
       "      <td>0.40</td>\n",
       "      <td>4.68</td>\n",
       "      <td>4.70</td>\n",
       "      <td>2.98</td>\n",
       "      <td>807</td>\n",
       "      <td>3</td>\n",
       "      <td>1</td>\n",
       "      <td>5</td>\n",
       "    </tr>\n",
       "    <tr>\n",
       "      <th>40454</th>\n",
       "      <td>2.02</td>\n",
       "      <td>7.97</td>\n",
       "      <td>8.04</td>\n",
       "      <td>4.99</td>\n",
       "      <td>15064</td>\n",
       "      <td>4</td>\n",
       "      <td>4</td>\n",
       "      <td>3</td>\n",
       "    </tr>\n",
       "  </tbody>\n",
       "</table>\n",
       "<p>40455 rows × 8 columns</p>\n",
       "</div>"
      ],
      "text/plain": [
       "       carat     x     y     z  price  labcol  labcut  labclar\n",
       "0       0.30  4.29  4.31  2.70    605       2       4        5\n",
       "1       0.34  4.46  4.49  2.80    565       1       2        2\n",
       "2       0.40  4.70  4.75  2.85    720       0       4        2\n",
       "3       0.40  4.72  4.74  2.92    793       4       3        4\n",
       "4       0.90  6.10  6.13  3.73   4381       0       4        2\n",
       "...      ...   ...   ...   ...    ...     ...     ...      ...\n",
       "40450   0.32  4.41  4.43  2.72    862       0       2        4\n",
       "40451   0.30  4.32  4.35  2.64    710       0       2        5\n",
       "40452   0.47  4.97  4.99  3.12    931       3       3        2\n",
       "40453   0.40  4.68  4.70  2.98    807       3       1        5\n",
       "40454   2.02  7.97  8.04  4.99  15064       4       4        3\n",
       "\n",
       "[40455 rows x 8 columns]"
      ]
     },
     "execution_count": 64,
     "metadata": {},
     "output_type": "execute_result"
    }
   ],
   "source": [
    "diammorv"
   ]
  },
  {
   "cell_type": "code",
   "execution_count": 65,
   "metadata": {},
   "outputs": [],
   "source": [
    "X1 =diammorv[[\"carat\",\"x\",\"y\",\"z\",\"labcol\", \"labcut\", \"labclar\"]]\n",
    "y1 = diammorv[\"price\"]"
   ]
  },
  {
   "cell_type": "code",
   "execution_count": 66,
   "metadata": {},
   "outputs": [],
   "source": [
    "pipeline = [\n",
    "    StandardScaler(),\n",
    "    Normalizer()\n",
    "]\n",
    "\n",
    "tr = make_pipeline(*pipeline)"
   ]
  },
  {
   "cell_type": "code",
   "execution_count": 67,
   "metadata": {},
   "outputs": [],
   "source": [
    "X_ready1 = tr.fit_transform(X1)\n",
    "X_ready1 = pd.DataFrame(X_ready1, columns=X1.columns)"
   ]
  },
  {
   "cell_type": "code",
   "execution_count": 68,
   "metadata": {},
   "outputs": [
    {
     "data": {
      "text/html": [
       "<div>\n",
       "<style scoped>\n",
       "    .dataframe tbody tr th:only-of-type {\n",
       "        vertical-align: middle;\n",
       "    }\n",
       "\n",
       "    .dataframe tbody tr th {\n",
       "        vertical-align: top;\n",
       "    }\n",
       "\n",
       "    .dataframe thead th {\n",
       "        text-align: right;\n",
       "    }\n",
       "</style>\n",
       "<table border=\"1\" class=\"dataframe\">\n",
       "  <thead>\n",
       "    <tr style=\"text-align: right;\">\n",
       "      <th></th>\n",
       "      <th>carat</th>\n",
       "      <th>x</th>\n",
       "      <th>y</th>\n",
       "      <th>z</th>\n",
       "      <th>labcol</th>\n",
       "      <th>labcut</th>\n",
       "      <th>labclar</th>\n",
       "    </tr>\n",
       "  </thead>\n",
       "  <tbody>\n",
       "    <tr>\n",
       "      <th>0</th>\n",
       "      <td>-0.366584</td>\n",
       "      <td>-0.447603</td>\n",
       "      <td>-0.431118</td>\n",
       "      <td>-0.411625</td>\n",
       "      <td>-0.122791</td>\n",
       "      <td>0.489629</td>\n",
       "      <td>0.234855</td>\n",
       "    </tr>\n",
       "    <tr>\n",
       "      <th>1</th>\n",
       "      <td>-0.371216</td>\n",
       "      <td>-0.434702</td>\n",
       "      <td>-0.414719</td>\n",
       "      <td>-0.399181</td>\n",
       "      <td>-0.361234</td>\n",
       "      <td>-0.207908</td>\n",
       "      <td>-0.410097</td>\n",
       "    </tr>\n",
       "    <tr>\n",
       "      <th>2</th>\n",
       "      <td>-0.285260</td>\n",
       "      <td>-0.311813</td>\n",
       "      <td>-0.290118</td>\n",
       "      <td>-0.329159</td>\n",
       "      <td>-0.519444</td>\n",
       "      <td>0.476944</td>\n",
       "      <td>-0.362749</td>\n",
       "    </tr>\n",
       "    <tr>\n",
       "      <th>3</th>\n",
       "      <td>-0.425642</td>\n",
       "      <td>-0.456223</td>\n",
       "      <td>-0.437294</td>\n",
       "      <td>-0.441148</td>\n",
       "      <td>0.418130</td>\n",
       "      <td>0.218626</td>\n",
       "      <td>0.047147</td>\n",
       "    </tr>\n",
       "    <tr>\n",
       "      <th>4</th>\n",
       "      <td>0.090310</td>\n",
       "      <td>0.137238</td>\n",
       "      <td>0.143127</td>\n",
       "      <td>0.112562</td>\n",
       "      <td>-0.635015</td>\n",
       "      <td>0.583059</td>\n",
       "      <td>-0.443456</td>\n",
       "    </tr>\n",
       "    <tr>\n",
       "      <th>...</th>\n",
       "      <td>...</td>\n",
       "      <td>...</td>\n",
       "      <td>...</td>\n",
       "      <td>...</td>\n",
       "      <td>...</td>\n",
       "      <td>...</td>\n",
       "      <td>...</td>\n",
       "    </tr>\n",
       "    <tr>\n",
       "      <th>40450</th>\n",
       "      <td>-0.364746</td>\n",
       "      <td>-0.425341</td>\n",
       "      <td>-0.409253</td>\n",
       "      <td>-0.416539</td>\n",
       "      <td>-0.552825</td>\n",
       "      <td>-0.195722</td>\n",
       "      <td>0.033628</td>\n",
       "    </tr>\n",
       "    <tr>\n",
       "      <th>40451</th>\n",
       "      <td>-0.354097</td>\n",
       "      <td>-0.423345</td>\n",
       "      <td>-0.404729</td>\n",
       "      <td>-0.426083</td>\n",
       "      <td>-0.515095</td>\n",
       "      <td>-0.182364</td>\n",
       "      <td>0.226855</td>\n",
       "    </tr>\n",
       "    <tr>\n",
       "      <th>40452</th>\n",
       "      <td>-0.394000</td>\n",
       "      <td>-0.385694</td>\n",
       "      <td>-0.367709</td>\n",
       "      <td>-0.335206</td>\n",
       "      <td>0.134655</td>\n",
       "      <td>0.245674</td>\n",
       "      <td>-0.608231</td>\n",
       "    </tr>\n",
       "    <tr>\n",
       "      <th>40453</th>\n",
       "      <td>-0.348518</td>\n",
       "      <td>-0.388361</td>\n",
       "      <td>-0.372479</td>\n",
       "      <td>-0.326125</td>\n",
       "      <td>0.098117</td>\n",
       "      <td>-0.628383</td>\n",
       "      <td>0.279501</td>\n",
       "    </tr>\n",
       "    <tr>\n",
       "      <th>40454</th>\n",
       "      <td>0.554163</td>\n",
       "      <td>0.428211</td>\n",
       "      <td>0.429447</td>\n",
       "      <td>0.438625</td>\n",
       "      <td>0.176801</td>\n",
       "      <td>0.300916</td>\n",
       "      <td>-0.104466</td>\n",
       "    </tr>\n",
       "  </tbody>\n",
       "</table>\n",
       "<p>40455 rows × 7 columns</p>\n",
       "</div>"
      ],
      "text/plain": [
       "          carat         x         y         z    labcol    labcut   labclar\n",
       "0     -0.366584 -0.447603 -0.431118 -0.411625 -0.122791  0.489629  0.234855\n",
       "1     -0.371216 -0.434702 -0.414719 -0.399181 -0.361234 -0.207908 -0.410097\n",
       "2     -0.285260 -0.311813 -0.290118 -0.329159 -0.519444  0.476944 -0.362749\n",
       "3     -0.425642 -0.456223 -0.437294 -0.441148  0.418130  0.218626  0.047147\n",
       "4      0.090310  0.137238  0.143127  0.112562 -0.635015  0.583059 -0.443456\n",
       "...         ...       ...       ...       ...       ...       ...       ...\n",
       "40450 -0.364746 -0.425341 -0.409253 -0.416539 -0.552825 -0.195722  0.033628\n",
       "40451 -0.354097 -0.423345 -0.404729 -0.426083 -0.515095 -0.182364  0.226855\n",
       "40452 -0.394000 -0.385694 -0.367709 -0.335206  0.134655  0.245674 -0.608231\n",
       "40453 -0.348518 -0.388361 -0.372479 -0.326125  0.098117 -0.628383  0.279501\n",
       "40454  0.554163  0.428211  0.429447  0.438625  0.176801  0.300916 -0.104466\n",
       "\n",
       "[40455 rows x 7 columns]"
      ]
     },
     "execution_count": 68,
     "metadata": {},
     "output_type": "execute_result"
    }
   ],
   "source": [
    "X_ready1\n"
   ]
  },
  {
   "cell_type": "code",
   "execution_count": 69,
   "metadata": {},
   "outputs": [],
   "source": [
    "X_train1, X_test1, y_train1, y_test1 = train_test_split(X_ready1, y1, test_size=0.2)"
   ]
  },
  {
   "cell_type": "markdown",
   "metadata": {},
   "source": [
    "## Nearest Neighbors Regression: KNeighborsRegression, interesante"
   ]
  },
  {
   "cell_type": "markdown",
   "metadata": {},
   "source": [
    "### With fewer variables"
   ]
  },
  {
   "cell_type": "code",
   "execution_count": null,
   "metadata": {},
   "outputs": [],
   "source": [
    "\n"
   ]
  },
  {
   "cell_type": "code",
   "execution_count": 86,
   "metadata": {},
   "outputs": [
    {
     "name": "stdout",
     "output_type": "stream",
     "text": [
      "1949371.0339883822\n",
      "0.9584738862966113\n",
      "0.8733735700068886\n"
     ]
    }
   ],
   "source": [
    "#NO borrar. EStos resultados son con normalized, con outliers\n",
    "neigh = KNeighborsRegressor(n_neighbors=2)\n",
    "neigh.fit(X_train, y_train)\n",
    "y_pred = neigh.predict(X_test)\n",
    "print(mean_squared_error(y_test, y_pred))\n",
    "print(neigh.score(X_train, y_train))\n",
    "print(neigh.score(X_test, y_test))\n"
   ]
  },
  {
   "cell_type": "code",
   "execution_count": 87,
   "metadata": {},
   "outputs": [
    {
     "name": "stdout",
     "output_type": "stream",
     "text": [
      "El modelo ha predicho un total de 87.0%\n"
     ]
    }
   ],
   "source": [
    "price_score = neigh.score(X_test,y_test)\n",
    "print(f\"El modelo ha predicho un total de {round(price_score*100)}%\")"
   ]
  },
  {
   "cell_type": "code",
   "execution_count": 53,
   "metadata": {},
   "outputs": [
    {
     "ename": "SyntaxError",
     "evalue": "unexpected EOF while parsing (<ipython-input-53-8a4667d71177>, line 8)",
     "output_type": "error",
     "traceback": [
      "\u001b[0;36m  File \u001b[0;32m\"<ipython-input-53-8a4667d71177>\"\u001b[0;36m, line \u001b[0;32m8\u001b[0m\n\u001b[0;31m    \u001b[0m\n\u001b[0m    ^\u001b[0m\n\u001b[0;31mSyntaxError\u001b[0m\u001b[0;31m:\u001b[0m unexpected EOF while parsing\n"
     ]
    }
   ],
   "source": [
    "printMetric= lambda label,value:print(f\"\\t {label}: {round(value,4)}\")\n",
    "for name,m in models.items():\n",
    "    y_pred = m.predict(X)\n",
    "    \n",
    "print (f\"Analyzing -- {name}\")\n",
    "printMetric(\"THE RMSE IS:\", math.sqrt(mean_squared_error(y,y_pred))\n",
    "\n",
    "\n"
   ]
  },
  {
   "cell_type": "code",
   "execution_count": 76,
   "metadata": {},
   "outputs": [
    {
     "name": "stdout",
     "output_type": "stream",
     "text": [
      "2544789.178222717\n",
      "0.9989902365382879\n",
      "0.8346966467106299\n"
     ]
    }
   ],
   "source": [
    "neigh = KNeighborsRegressor(n_neighbors=1)\n",
    "neigh.fit(X_train, y_train)\n",
    "y_pred = neigh.predict(X_test)\n",
    "print(mean_squared_error(y_test, y_pred))\n",
    "print(neigh.score(X_train, y_train))\n",
    "print(neigh.score(X_test, y_test))\n"
   ]
  },
  {
   "cell_type": "code",
   "execution_count": 88,
   "metadata": {},
   "outputs": [
    {
     "name": "stdout",
     "output_type": "stream",
     "text": [
      "El modelo ha predicho un total de 87.0%\n"
     ]
    }
   ],
   "source": []
  },
  {
   "cell_type": "code",
   "execution_count": 77,
   "metadata": {},
   "outputs": [],
   "source": [
    "y_predKNR = neigh.predict(predict1)\n",
    "predKNR = pd.DataFrame(y_predKNR)\n",
    "predKNR.rename(columns={0: 'price'}, inplace=True)\n",
    "predKNR.index.names = ['id']\n",
    "#predKNR.to_csv(\"outputs/KNeighborsimproved.csv\")"
   ]
  },
  {
   "cell_type": "markdown",
   "metadata": {},
   "source": [
    "### With more variables: ESTE PREDICE MEJOR"
   ]
  },
  {
   "cell_type": "code",
   "execution_count": 89,
   "metadata": {},
   "outputs": [
    {
     "data": {
      "text/plain": [
       "KNeighborsRegressor(n_neighbors=2)"
      ]
     },
     "execution_count": 89,
     "metadata": {},
     "output_type": "execute_result"
    }
   ],
   "source": [
    "neigh1 = KNeighborsRegressor(n_neighbors=2)\n",
    "neigh1.fit(X_train1, y_train1)"
   ]
  },
  {
   "cell_type": "code",
   "execution_count": 90,
   "metadata": {},
   "outputs": [
    {
     "name": "stdout",
     "output_type": "stream",
     "text": [
      "567084.922815474\n",
      "0.9901147915221844\n",
      "0.9650405366090776\n"
     ]
    }
   ],
   "source": [
    "neigh1 = KNeighborsRegressor(n_neighbors=2)\n",
    "neigh1.fit(X_train1, y_train1)\n",
    "y_pred1 = neigh1.predict(X_test1)\n",
    "print(mean_squared_error(y_test1, y_pred1))\n",
    "print(neigh1.score(X_train1, y_train1))\n",
    "print(neigh1.score(X_test1, y_test1))\n"
   ]
  },
  {
   "cell_type": "code",
   "execution_count": 92,
   "metadata": {},
   "outputs": [
    {
     "name": "stdout",
     "output_type": "stream",
     "text": [
      "El modelo ha predicho un total de 97.0%\n"
     ]
    }
   ],
   "source": [
    "price_score = neigh1.score(X_test1,y_test1)\n",
    "print(f\"El modelo ha predicho un total de {round(price_score*100)}%\")"
   ]
  },
  {
   "cell_type": "code",
   "execution_count": 48,
   "metadata": {},
   "outputs": [],
   "source": [
    "y_predKNR1 = neigh1.predict(predict2)\n",
    "predKNR1 = pd.DataFrame(y_predKNR1)\n",
    "predKNR1.rename(columns={0: 'price'}, inplace=True)\n",
    "predKNR1.index.names = ['id']\n",
    "#predKNR.to_csv(\"outputs/KNeighborsmorev.csv\")"
   ]
  },
  {
   "cell_type": "code",
   "execution_count": null,
   "metadata": {},
   "outputs": [],
   "source": []
  },
  {
   "cell_type": "code",
   "execution_count": null,
   "metadata": {},
   "outputs": [],
   "source": []
  },
  {
   "cell_type": "markdown",
   "metadata": {},
   "source": [
    "## Neural Network Regression: interesante\n"
   ]
  },
  {
   "cell_type": "markdown",
   "metadata": {},
   "source": [
    "### WITH FEWER VARIABLES"
   ]
  },
  {
   "cell_type": "code",
   "execution_count": 80,
   "metadata": {},
   "outputs": [
    {
     "name": "stderr",
     "output_type": "stream",
     "text": [
      "/Library/Frameworks/Python.framework/Versions/3.8/lib/python3.8/site-packages/sklearn/neural_network/_multilayer_perceptron.py:582: ConvergenceWarning: Stochastic Optimizer: Maximum iterations (500) reached and the optimization hasn't converged yet.\n",
      "  warnings.warn(\n"
     ]
    }
   ],
   "source": [
    "regr = MLPRegressor(random_state=0, max_iter=500).fit(X_train, y_train)\n"
   ]
  },
  {
   "cell_type": "code",
   "execution_count": 96,
   "metadata": {},
   "outputs": [
    {
     "name": "stdout",
     "output_type": "stream",
     "text": [
      "1782090.6140853742\n",
      "0.8879503751262112\n",
      "0.8842397017030841\n"
     ]
    }
   ],
   "source": [
    "#with adative learning_rate\n",
    "y_predNN = regr.predict(X_test)\n",
    "print(mean_squared_error(y_test, y_predNN))\n",
    "print(regr.score(X_train, y_train))\n",
    "print(regr.score(X_test, y_test))\n"
   ]
  },
  {
   "cell_type": "code",
   "execution_count": 97,
   "metadata": {},
   "outputs": [
    {
     "data": {
      "text/plain": [
       "1334.9496672479356"
      ]
     },
     "execution_count": 97,
     "metadata": {},
     "output_type": "execute_result"
    }
   ],
   "source": [
    "#sin nada\n",
    "y_predNN = regr.predict(X_test)\n",
    "mean_squared_error(y_test, y_predNN, squared = False)"
   ]
  },
  {
   "cell_type": "code",
   "execution_count": null,
   "metadata": {},
   "outputs": [],
   "source": []
  },
  {
   "cell_type": "code",
   "execution_count": 98,
   "metadata": {},
   "outputs": [],
   "source": [
    "y_predNN = regr.predict(predict1)\n",
    "predNN = pd.DataFrame(y_predNN)\n",
    "predNN.rename(columns={0: 'price'}, inplace=True)\n",
    "predNN.index.names = ['id']\n",
    "#predNN.to_csv(\"outputs/NeuralNtwkNORM&OUT.csv\")"
   ]
  },
  {
   "cell_type": "markdown",
   "metadata": {},
   "source": [
    "### WITH MORE VARIABLES: también así el modelo predice mejor\n"
   ]
  },
  {
   "cell_type": "code",
   "execution_count": 100,
   "metadata": {},
   "outputs": [
    {
     "name": "stdout",
     "output_type": "stream",
     "text": [
      "1191603.257291616\n",
      "0.925142751080061\n",
      "0.9265404372894157\n"
     ]
    },
    {
     "name": "stderr",
     "output_type": "stream",
     "text": [
      "/Library/Frameworks/Python.framework/Versions/3.8/lib/python3.8/site-packages/sklearn/neural_network/_multilayer_perceptron.py:582: ConvergenceWarning: Stochastic Optimizer: Maximum iterations (500) reached and the optimization hasn't converged yet.\n",
      "  warnings.warn(\n"
     ]
    }
   ],
   "source": [
    "regr1= MLPRegressor(random_state=0, max_iter=500).fit(X_train1, y_train1)\n",
    "y_predNN1 = regr1.predict(X_test1)\n",
    "print(mean_squared_error(y_test1, y_predNN1))\n",
    "print(regr1.score(X_train1, y_train1))\n",
    "print(regr1.score(X_test1, y_test1))"
   ]
  },
  {
   "cell_type": "code",
   "execution_count": 94,
   "metadata": {},
   "outputs": [
    {
     "name": "stdout",
     "output_type": "stream",
     "text": [
      "El modelo ha predicho un total de 93.0%\n"
     ]
    }
   ],
   "source": [
    "price_score = regr1.score(X_test1,y_test1)\n",
    "print(f\"El modelo ha predicho un total de {round(price_score*100)}%\")"
   ]
  },
  {
   "cell_type": "code",
   "execution_count": 95,
   "metadata": {},
   "outputs": [],
   "source": [
    "y_predNN1 = regr1.predict(predict2)\n",
    "predNN1 = pd.DataFrame(y_predNN1)\n",
    "predNN1.rename(columns={0: 'price'}, inplace=True)\n",
    "predNN1.index.names = ['id']\n",
    "#predNN.to_csv(\"outputs/NeuralNtwkNORM&OUTmorev.csv\")"
   ]
  },
  {
   "cell_type": "code",
   "execution_count": null,
   "metadata": {},
   "outputs": [],
   "source": []
  },
  {
   "cell_type": "code",
   "execution_count": null,
   "metadata": {},
   "outputs": [],
   "source": []
  },
  {
   "cell_type": "markdown",
   "metadata": {},
   "source": [
    "## Generalized Linear Regression: no pinta bien\n"
   ]
  },
  {
   "cell_type": "markdown",
   "metadata": {},
   "source": [
    "### With few variables"
   ]
  },
  {
   "cell_type": "code",
   "execution_count": 31,
   "metadata": {},
   "outputs": [
    {
     "data": {
      "text/plain": [
       "7.9678338653140015"
      ]
     },
     "execution_count": 31,
     "metadata": {},
     "output_type": "execute_result"
    }
   ],
   "source": [
    "from sklearn.linear_model import TweedieRegressor\n",
    "reg = TweedieRegressor(power=0, alpha=0.5, link='log')\n",
    "reg.fit(X_train, y_train)\n",
    "reg.coef_\n",
    "reg.intercept_\n"
   ]
  },
  {
   "cell_type": "code",
   "execution_count": 32,
   "metadata": {},
   "outputs": [
    {
     "name": "stdout",
     "output_type": "stream",
     "text": [
      "2444996.215858688\n",
      "0.8572493340257656\n",
      "0.844761091535542\n"
     ]
    }
   ],
   "source": [
    "y_predGLM = reg.predict(X_test)\n",
    "\n",
    "print(mean_squared_error(y_test,y_predGLM))\n",
    "print(reg.score(X_train, y_train))\n",
    "print(reg.score(X_test, y_test))"
   ]
  },
  {
   "cell_type": "markdown",
   "metadata": {},
   "source": [
    "### With more variables"
   ]
  },
  {
   "cell_type": "code",
   "execution_count": 33,
   "metadata": {},
   "outputs": [
    {
     "data": {
      "text/plain": [
       "7.972535803526908"
      ]
     },
     "execution_count": 33,
     "metadata": {},
     "output_type": "execute_result"
    }
   ],
   "source": [
    "reg1 = TweedieRegressor(power=0, alpha=0.5, link='log')\n",
    "reg1.fit(X_train1, y_train1)\n",
    "reg1.coef_\n",
    "reg1.intercept_"
   ]
  },
  {
   "cell_type": "code",
   "execution_count": 34,
   "metadata": {},
   "outputs": [],
   "source": [
    "y_predGLM1 = reg.predict(X_test)\n"
   ]
  },
  {
   "cell_type": "code",
   "execution_count": 139,
   "metadata": {},
   "outputs": [
    {
     "name": "stdout",
     "output_type": "stream",
     "text": [
      "4.829361676574384e+26\n",
      "0.8976866877501805\n",
      "0.8934744480833794\n"
     ]
    }
   ],
   "source": [
    "print(mean_squared_error(y_test1, y_predGLM1))\n",
    "print(reg1.score(X_train1, y_train1))\n",
    "print(reg1.score(X_test1, y_test1))"
   ]
  },
  {
   "cell_type": "code",
   "execution_count": null,
   "metadata": {},
   "outputs": [],
   "source": []
  }
 ],
 "metadata": {
  "kernelspec": {
   "display_name": "Python 3",
   "language": "python",
   "name": "python3"
  },
  "language_info": {
   "codemirror_mode": {
    "name": "ipython",
    "version": 3
   },
   "file_extension": ".py",
   "mimetype": "text/x-python",
   "name": "python",
   "nbconvert_exporter": "python",
   "pygments_lexer": "ipython3",
   "version": "3.8.2"
  }
 },
 "nbformat": 4,
 "nbformat_minor": 4
}
