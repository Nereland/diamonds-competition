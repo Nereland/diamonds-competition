{
 "cells": [
  {
   "cell_type": "code",
   "execution_count": 17,
   "metadata": {},
   "outputs": [],
   "source": [
    "import pandas as pd\n",
    "import seaborn as sns\n",
    "import matplotlib as plt\n",
    "import sklearn\n",
    "from sklearn.preprocessing import StandardScaler, Normalizer\n",
    "from sklearn.pipeline import make_pipeline\n",
    "from sklearn import linear_model\n",
    "from sklearn.model_selection import train_test_split"
   ]
  },
  {
   "cell_type": "code",
   "execution_count": 18,
   "metadata": {},
   "outputs": [],
   "source": [
    "diam_no = pd.read_csv(\"outputs/diam_no_out.csv\")\n",
    "diam = pd.read_csv(\"outputs/diam.csv\")"
   ]
  },
  {
   "cell_type": "code",
   "execution_count": 19,
   "metadata": {},
   "outputs": [],
   "source": [
    "predict1 = pd.read_csv(\"outputs/predict1.csv\")"
   ]
  },
  {
   "cell_type": "code",
   "execution_count": 20,
   "metadata": {},
   "outputs": [],
   "source": [
    "X = diam[[\"carat\",\"x\",\"y\",\"z\",\"labcol\"]]\n",
    "y = diam[\"price\"]"
   ]
  },
  {
   "cell_type": "markdown",
   "metadata": {},
   "source": [
    "Best solutions:\n",
    "    - Normalized\n",
    "    - With outliers"
   ]
  },
  {
   "cell_type": "markdown",
   "metadata": {},
   "source": [
    "### Normalized data trial"
   ]
  },
  {
   "cell_type": "code",
   "execution_count": 21,
   "metadata": {},
   "outputs": [],
   "source": [
    "pipeline = [\n",
    "    StandardScaler(),\n",
    "    Normalizer()\n",
    "]\n",
    "\n",
    "tr = make_pipeline(*pipeline)"
   ]
  },
  {
   "cell_type": "code",
   "execution_count": 22,
   "metadata": {},
   "outputs": [],
   "source": [
    "X_ready = tr.fit_transform(X)\n",
    "X_ready = pd.DataFrame(X_ready, columns=X.columns)"
   ]
  },
  {
   "cell_type": "code",
   "execution_count": 23,
   "metadata": {},
   "outputs": [
    {
     "data": {
      "text/plain": [
       "(40455, 5)"
      ]
     },
     "execution_count": 23,
     "metadata": {},
     "output_type": "execute_result"
    }
   ],
   "source": [
    "X_ready.shape\n"
   ]
  },
  {
   "cell_type": "code",
   "execution_count": 24,
   "metadata": {},
   "outputs": [
    {
     "data": {
      "text/html": [
       "<div>\n",
       "<style scoped>\n",
       "    .dataframe tbody tr th:only-of-type {\n",
       "        vertical-align: middle;\n",
       "    }\n",
       "\n",
       "    .dataframe tbody tr th {\n",
       "        vertical-align: top;\n",
       "    }\n",
       "\n",
       "    .dataframe thead th {\n",
       "        text-align: right;\n",
       "    }\n",
       "</style>\n",
       "<table border=\"1\" class=\"dataframe\">\n",
       "  <thead>\n",
       "    <tr style=\"text-align: right;\">\n",
       "      <th></th>\n",
       "      <th>carat</th>\n",
       "      <th>x</th>\n",
       "      <th>y</th>\n",
       "      <th>z</th>\n",
       "      <th>labcol</th>\n",
       "    </tr>\n",
       "  </thead>\n",
       "  <tbody>\n",
       "    <tr>\n",
       "      <th>0</th>\n",
       "      <td>-0.436562</td>\n",
       "      <td>-0.533047</td>\n",
       "      <td>-0.513415</td>\n",
       "      <td>-0.490200</td>\n",
       "      <td>-0.146230</td>\n",
       "    </tr>\n",
       "    <tr>\n",
       "      <th>1</th>\n",
       "      <td>-0.418022</td>\n",
       "      <td>-0.489513</td>\n",
       "      <td>-0.467011</td>\n",
       "      <td>-0.449514</td>\n",
       "      <td>-0.406782</td>\n",
       "    </tr>\n",
       "    <tr>\n",
       "      <th>2</th>\n",
       "      <td>-0.356314</td>\n",
       "      <td>-0.389482</td>\n",
       "      <td>-0.362383</td>\n",
       "      <td>-0.411148</td>\n",
       "      <td>-0.648830</td>\n",
       "    </tr>\n",
       "    <tr>\n",
       "      <th>3</th>\n",
       "      <td>-0.436704</td>\n",
       "      <td>-0.468080</td>\n",
       "      <td>-0.448659</td>\n",
       "      <td>-0.452613</td>\n",
       "      <td>0.428996</td>\n",
       "    </tr>\n",
       "    <tr>\n",
       "      <th>4</th>\n",
       "      <td>0.132667</td>\n",
       "      <td>0.201605</td>\n",
       "      <td>0.210257</td>\n",
       "      <td>0.165356</td>\n",
       "      <td>-0.932847</td>\n",
       "    </tr>\n",
       "    <tr>\n",
       "      <th>...</th>\n",
       "      <td>...</td>\n",
       "      <td>...</td>\n",
       "      <td>...</td>\n",
       "      <td>...</td>\n",
       "      <td>...</td>\n",
       "    </tr>\n",
       "    <tr>\n",
       "      <th>40450</th>\n",
       "      <td>-0.372158</td>\n",
       "      <td>-0.433984</td>\n",
       "      <td>-0.417569</td>\n",
       "      <td>-0.425004</td>\n",
       "      <td>-0.564060</td>\n",
       "    </tr>\n",
       "    <tr>\n",
       "      <th>40451</th>\n",
       "      <td>-0.370122</td>\n",
       "      <td>-0.442504</td>\n",
       "      <td>-0.423046</td>\n",
       "      <td>-0.445366</td>\n",
       "      <td>-0.538406</td>\n",
       "    </tr>\n",
       "    <tr>\n",
       "      <th>40452</th>\n",
       "      <td>-0.522003</td>\n",
       "      <td>-0.510998</td>\n",
       "      <td>-0.487171</td>\n",
       "      <td>-0.444108</td>\n",
       "      <td>0.178401</td>\n",
       "    </tr>\n",
       "    <tr>\n",
       "      <th>40453</th>\n",
       "      <td>-0.480081</td>\n",
       "      <td>-0.534965</td>\n",
       "      <td>-0.513086</td>\n",
       "      <td>-0.449234</td>\n",
       "      <td>0.135155</td>\n",
       "    </tr>\n",
       "    <tr>\n",
       "      <th>40454</th>\n",
       "      <td>0.584614</td>\n",
       "      <td>0.451742</td>\n",
       "      <td>0.453046</td>\n",
       "      <td>0.462727</td>\n",
       "      <td>0.186517</td>\n",
       "    </tr>\n",
       "  </tbody>\n",
       "</table>\n",
       "<p>40455 rows × 5 columns</p>\n",
       "</div>"
      ],
      "text/plain": [
       "          carat         x         y         z    labcol\n",
       "0     -0.436562 -0.533047 -0.513415 -0.490200 -0.146230\n",
       "1     -0.418022 -0.489513 -0.467011 -0.449514 -0.406782\n",
       "2     -0.356314 -0.389482 -0.362383 -0.411148 -0.648830\n",
       "3     -0.436704 -0.468080 -0.448659 -0.452613  0.428996\n",
       "4      0.132667  0.201605  0.210257  0.165356 -0.932847\n",
       "...         ...       ...       ...       ...       ...\n",
       "40450 -0.372158 -0.433984 -0.417569 -0.425004 -0.564060\n",
       "40451 -0.370122 -0.442504 -0.423046 -0.445366 -0.538406\n",
       "40452 -0.522003 -0.510998 -0.487171 -0.444108  0.178401\n",
       "40453 -0.480081 -0.534965 -0.513086 -0.449234  0.135155\n",
       "40454  0.584614  0.451742  0.453046  0.462727  0.186517\n",
       "\n",
       "[40455 rows x 5 columns]"
      ]
     },
     "execution_count": 24,
     "metadata": {},
     "output_type": "execute_result"
    }
   ],
   "source": [
    "X_ready\n"
   ]
  },
  {
   "cell_type": "code",
   "execution_count": 25,
   "metadata": {},
   "outputs": [],
   "source": [
    "X_train, X_test, y_train, y_test = train_test_split(X, y, test_size=0.2)"
   ]
  },
  {
   "cell_type": "markdown",
   "metadata": {},
   "source": [
    "## Linear Regression"
   ]
  },
  {
   "cell_type": "code",
   "execution_count": 26,
   "metadata": {},
   "outputs": [
    {
     "data": {
      "text/plain": [
       "0.8721985478688741"
      ]
     },
     "execution_count": 26,
     "metadata": {},
     "output_type": "execute_result"
    }
   ],
   "source": [
    "diam_model = sklearn.linear_model.LinearRegression()\n",
    "diam_model.fit(X_train, y_train)\n",
    "diam_model.score(X_test, y_test)"
   ]
  },
  {
   "cell_type": "code",
   "execution_count": 27,
   "metadata": {},
   "outputs": [
    {
     "name": "stdout",
     "output_type": "stream",
     "text": [
      "Coefficients: \n",
      " [10762.94261473 -1017.27579945    79.68733117  -396.31977341\n",
      "  -256.8331724 ]\n",
      "Intercept: 2785.36698915015\n"
     ]
    }
   ],
   "source": [
    "diam_model_pred = diam_model.predict(X_test)\n",
    "print(\"Coefficients: \\n\", diam_model.coef_)\n",
    "print(\"Intercept:\", diam_model.intercept_)"
   ]
  },
  {
   "cell_type": "code",
   "execution_count": 31,
   "metadata": {},
   "outputs": [
    {
     "data": {
      "text/plain": [
       "array([16677.99657423, 14031.68028305,   866.16719342, ...,\n",
       "        4763.80742785,   906.92247149,  2221.19279556])"
      ]
     },
     "execution_count": 31,
     "metadata": {},
     "output_type": "execute_result"
    }
   ],
   "source": [
    "y_pred = diam_model.predict(predict1)\n",
    "y_pred"
   ]
  },
  {
   "cell_type": "code",
   "execution_count": 32,
   "metadata": {},
   "outputs": [],
   "source": [
    "pred = pd.DataFrame(y_pred)\n",
    "pred.rename(columns={0: 'price'}, inplace=True)\n",
    "pred.index.names = ['id']"
   ]
  },
  {
   "cell_type": "code",
   "execution_count": 33,
   "metadata": {},
   "outputs": [],
   "source": [
    "pred.to_csv(\"outputs/linearRegression.csv\")"
   ]
  },
  {
   "cell_type": "markdown",
   "metadata": {},
   "source": [
    " ## RandomForest Regression Model: Descartado"
   ]
  },
  {
   "cell_type": "code",
   "execution_count": 34,
   "metadata": {},
   "outputs": [],
   "source": [
    "from sklearn.ensemble import RandomForestRegressor\n",
    "from sklearn.datasets import make_regression\n",
    "X, y = make_regression(n_features=4, n_informative=2, random_state=0, shuffle=False)\n",
    "regr = RandomForestRegressor(max_depth=2, random_state=0)\n",
    "regr.fit(X_train, y_train)\n",
    "y_predRF = regr.predict(predict1)"
   ]
  },
  {
   "cell_type": "code",
   "execution_count": 35,
   "metadata": {},
   "outputs": [],
   "source": [
    "#Muy mala puntuación, retocar parámetros\n",
    "predRF = pd.DataFrame(y_predRF)\n",
    "predRF.rename(columns={0: 'price'}, inplace=True)\n",
    "predRF.index.names = ['id']\n",
    "predRF.to_csv(\"outputs/RandomForest.csv\")"
   ]
  },
  {
   "cell_type": "markdown",
   "metadata": {},
   "source": [
    "## Nearest Neighbors Regression: KNeighborsRegression, interesante"
   ]
  },
  {
   "cell_type": "code",
   "execution_count": 38,
   "metadata": {},
   "outputs": [],
   "source": [
    "from sklearn.neighbors import KNeighborsRegressor\n",
    "neigh = KNeighborsRegressor(n_neighbors=2)\n",
    "neigh.fit(X_train, y_train)\n",
    "Y_predKNR = neigh.predict(predict1)"
   ]
  },
  {
   "cell_type": "code",
   "execution_count": null,
   "metadata": {},
   "outputs": [],
   "source": []
  },
  {
   "cell_type": "code",
   "execution_count": 37,
   "metadata": {},
   "outputs": [],
   "source": [
    "predKNR = pd.DataFrame(Y_predKNR)\n",
    "predKNR.rename(columns={0: 'price'}, inplace=True)\n",
    "predKNR.index.names = ['id']\n",
    "predKNR.to_csv(\"outputs/KNeighborsNormalizedwithout.csv\")"
   ]
  },
  {
   "cell_type": "markdown",
   "metadata": {},
   "source": [
    "## Neural Network Regression: interesante"
   ]
  },
  {
   "cell_type": "code",
   "execution_count": 12,
   "metadata": {},
   "outputs": [],
   "source": [
    "from sklearn.neural_network import MLPRegressor"
   ]
  },
  {
   "cell_type": "code",
   "execution_count": 13,
   "metadata": {},
   "outputs": [
    {
     "name": "stderr",
     "output_type": "stream",
     "text": [
      "/Library/Frameworks/Python.framework/Versions/3.8/lib/python3.8/site-packages/sklearn/neural_network/_multilayer_perceptron.py:582: ConvergenceWarning: Stochastic Optimizer: Maximum iterations (500) reached and the optimization hasn't converged yet.\n",
      "  warnings.warn(\n"
     ]
    }
   ],
   "source": [
    "regr = MLPRegressor(random_state=1, max_iter=500).fit(X_train, y_train)\n",
    "y_predNN = regr.predict(predict1)"
   ]
  },
  {
   "cell_type": "code",
   "execution_count": 14,
   "metadata": {},
   "outputs": [],
   "source": [
    "predNN = pd.DataFrame(y_predNN)\n",
    "predNN.rename(columns={0: 'price'}, inplace=True)\n",
    "predNN.index.names = ['id']\n",
    "predNN.to_csv(\"outputs/NeuralNtwkNORM&OUT.csv\")"
   ]
  },
  {
   "cell_type": "code",
   "execution_count": null,
   "metadata": {},
   "outputs": [],
   "source": []
  },
  {
   "cell_type": "code",
   "execution_count": 39,
   "metadata": {},
   "outputs": [],
   "source": [
    "import h2o"
   ]
  },
  {
   "cell_type": "code",
   "execution_count": null,
   "metadata": {},
   "outputs": [],
   "source": [
    "h2o.init(ip=\"127.0.0.1\",max_mem_size_GB = 2)"
   ]
  },
  {
   "cell_type": "code",
   "execution_count": null,
   "metadata": {},
   "outputs": [],
   "source": []
  },
  {
   "cell_type": "markdown",
   "metadata": {},
   "source": [
    "## Decission Tree Regressor: descartado"
   ]
  },
  {
   "cell_type": "code",
   "execution_count": 24,
   "metadata": {},
   "outputs": [],
   "source": [
    "from sklearn import tree\n",
    "clf = tree.DecisionTreeRegressor()\n",
    "clf = clf.fit(X_train, y_train)\n",
    "y_predDT = clf.predict(predict1)\n"
   ]
  },
  {
   "cell_type": "code",
   "execution_count": 26,
   "metadata": {},
   "outputs": [],
   "source": [
    "predDT = pd.DataFrame(y_predDT)\n",
    "predDT.rename(columns={0: 'price'}, inplace=True)\n",
    "predDT.index.names = ['id']\n",
    "predDT.to_csv(\"outputs/DecissionTree.csv\")"
   ]
  },
  {
   "cell_type": "code",
   "execution_count": null,
   "metadata": {},
   "outputs": [],
   "source": []
  }
 ],
 "metadata": {
  "kernelspec": {
   "display_name": "Python 3",
   "language": "python",
   "name": "python3"
  },
  "language_info": {
   "codemirror_mode": {
    "name": "ipython",
    "version": 3
   },
   "file_extension": ".py",
   "mimetype": "text/x-python",
   "name": "python",
   "nbconvert_exporter": "python",
   "pygments_lexer": "ipython3",
   "version": "3.8.2"
  }
 },
 "nbformat": 4,
 "nbformat_minor": 4
}
