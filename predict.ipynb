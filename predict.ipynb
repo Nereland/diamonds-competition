{
 "cells": [
  {
   "cell_type": "markdown",
   "metadata": {},
   "source": [
    "## Predict \n",
    "\n"
   ]
  },
  {
   "cell_type": "code",
   "execution_count": 7,
   "metadata": {
    "scrolled": true
   },
   "outputs": [],
   "source": [
    "import pandas as pd\n",
    "from sklearn.preprocessing import StandardScaler, Normalizer\n",
    "from sklearn.pipeline import make_pipeline\n",
    "predict1 = pd.read_csv(\"inputs/predict.csv\")\n",
    "predict2 = pd.read_csv(\"inputs/predict.csv\")"
   ]
  },
  {
   "cell_type": "code",
   "execution_count": 8,
   "metadata": {},
   "outputs": [
    {
     "data": {
      "text/plain": [
       "0        5\n",
       "1        4\n",
       "2        5\n",
       "3        5\n",
       "4        4\n",
       "        ..\n",
       "13480    1\n",
       "13481    2\n",
       "13482    2\n",
       "13483    2\n",
       "13484    3\n",
       "Name: labcol, Length: 13485, dtype: int64"
      ]
     },
     "execution_count": 8,
     "metadata": {},
     "output_type": "execute_result"
    }
   ],
   "source": [
    "from sklearn import preprocessing\n",
    "le = preprocessing.LabelEncoder()\n",
    "predict2[\"labcol\"] = le.fit_transform(predict2[\"color\"])\n",
    "predict2[\"labcol\"]"
   ]
  },
  {
   "cell_type": "code",
   "execution_count": 9,
   "metadata": {},
   "outputs": [
    {
     "data": {
      "text/plain": [
       "0        2\n",
       "1        2\n",
       "2        2\n",
       "3        2\n",
       "4        0\n",
       "        ..\n",
       "13480    3\n",
       "13481    4\n",
       "13482    3\n",
       "13483    2\n",
       "13484    2\n",
       "Name: labcut, Length: 13485, dtype: int64"
      ]
     },
     "execution_count": 9,
     "metadata": {},
     "output_type": "execute_result"
    }
   ],
   "source": [
    "le = preprocessing.LabelEncoder()\n",
    "predict2[\"labcut\"] = le.fit_transform(predict2[\"cut\"])\n",
    "predict2[\"labcut\"]"
   ]
  },
  {
   "cell_type": "code",
   "execution_count": 10,
   "metadata": {},
   "outputs": [
    {
     "data": {
      "text/plain": [
       "0        3\n",
       "1        3\n",
       "2        2\n",
       "3        2\n",
       "4        5\n",
       "        ..\n",
       "13480    6\n",
       "13481    2\n",
       "13482    0\n",
       "13483    7\n",
       "13484    1\n",
       "Name: labclar, Length: 13485, dtype: int64"
      ]
     },
     "execution_count": 10,
     "metadata": {},
     "output_type": "execute_result"
    }
   ],
   "source": [
    "le = preprocessing.LabelEncoder()\n",
    "predict2[\"labclar\"] = le.fit_transform(predict2[\"clarity\"])\n",
    "predict2[\"labclar\"]"
   ]
  },
  {
   "cell_type": "code",
   "execution_count": 11,
   "metadata": {},
   "outputs": [],
   "source": [
    "predict2.drop([\"id\", \"cut\", \"color\", \"clarity\", \"depth\", \"table\"], axis=1, inplace = True)"
   ]
  },
  {
   "cell_type": "code",
   "execution_count": 12,
   "metadata": {},
   "outputs": [],
   "source": [
    "pipeline = [\n",
    "    StandardScaler(),\n",
    "    Normalizer()\n",
    "]\n",
    "\n",
    "tr = make_pipeline(*pipeline)"
   ]
  },
  {
   "cell_type": "code",
   "execution_count": 13,
   "metadata": {},
   "outputs": [],
   "source": [
    "y_ready = tr.fit_transform(predict2)\n",
    "y_ready = pd.DataFrame(y_ready, columns=predict2.columns)"
   ]
  },
  {
   "cell_type": "code",
   "execution_count": 14,
   "metadata": {},
   "outputs": [
    {
     "data": {
      "text/html": [
       "<div>\n",
       "<style scoped>\n",
       "    .dataframe tbody tr th:only-of-type {\n",
       "        vertical-align: middle;\n",
       "    }\n",
       "\n",
       "    .dataframe tbody tr th {\n",
       "        vertical-align: top;\n",
       "    }\n",
       "\n",
       "    .dataframe thead th {\n",
       "        text-align: right;\n",
       "    }\n",
       "</style>\n",
       "<table border=\"1\" class=\"dataframe\">\n",
       "  <thead>\n",
       "    <tr style=\"text-align: right;\">\n",
       "      <th></th>\n",
       "      <th>carat</th>\n",
       "      <th>x</th>\n",
       "      <th>y</th>\n",
       "      <th>z</th>\n",
       "      <th>labcol</th>\n",
       "      <th>labcut</th>\n",
       "      <th>labclar</th>\n",
       "    </tr>\n",
       "  </thead>\n",
       "  <tbody>\n",
       "    <tr>\n",
       "      <th>0</th>\n",
       "      <td>0.573175</td>\n",
       "      <td>0.459790</td>\n",
       "      <td>0.445590</td>\n",
       "      <td>0.429263</td>\n",
       "      <td>0.248454</td>\n",
       "      <td>-0.092642</td>\n",
       "      <td>-0.083272</td>\n",
       "    </tr>\n",
       "    <tr>\n",
       "      <th>1</th>\n",
       "      <td>0.545743</td>\n",
       "      <td>0.457230</td>\n",
       "      <td>0.469686</td>\n",
       "      <td>0.468795</td>\n",
       "      <td>0.174544</td>\n",
       "      <td>-0.110978</td>\n",
       "      <td>-0.099752</td>\n",
       "    </tr>\n",
       "    <tr>\n",
       "      <th>2</th>\n",
       "      <td>-0.286909</td>\n",
       "      <td>-0.233752</td>\n",
       "      <td>-0.232105</td>\n",
       "      <td>-0.232515</td>\n",
       "      <td>0.668161</td>\n",
       "      <td>-0.249140</td>\n",
       "      <td>-0.496586</td>\n",
       "    </tr>\n",
       "    <tr>\n",
       "      <th>3</th>\n",
       "      <td>-0.343113</td>\n",
       "      <td>-0.412897</td>\n",
       "      <td>-0.413622</td>\n",
       "      <td>-0.420826</td>\n",
       "      <td>0.463656</td>\n",
       "      <td>-0.172886</td>\n",
       "      <td>-0.344595</td>\n",
       "    </tr>\n",
       "    <tr>\n",
       "      <th>4</th>\n",
       "      <td>0.115799</td>\n",
       "      <td>0.115135</td>\n",
       "      <td>0.075006</td>\n",
       "      <td>0.308283</td>\n",
       "      <td>0.287511</td>\n",
       "      <td>-0.856978</td>\n",
       "      <td>0.235789</td>\n",
       "    </tr>\n",
       "    <tr>\n",
       "      <th>...</th>\n",
       "      <td>...</td>\n",
       "      <td>...</td>\n",
       "      <td>...</td>\n",
       "      <td>...</td>\n",
       "      <td>...</td>\n",
       "      <td>...</td>\n",
       "      <td>...</td>\n",
       "    </tr>\n",
       "    <tr>\n",
       "      <th>13480</th>\n",
       "      <td>-0.293218</td>\n",
       "      <td>-0.233513</td>\n",
       "      <td>-0.264050</td>\n",
       "      <td>-0.285058</td>\n",
       "      <td>-0.479770</td>\n",
       "      <td>0.230791</td>\n",
       "      <td>0.651974</td>\n",
       "    </tr>\n",
       "    <tr>\n",
       "      <th>13481</th>\n",
       "      <td>0.208233</td>\n",
       "      <td>0.246311</td>\n",
       "      <td>0.272812</td>\n",
       "      <td>0.306044</td>\n",
       "      <td>-0.161565</td>\n",
       "      <td>0.672903</td>\n",
       "      <td>-0.498978</td>\n",
       "    </tr>\n",
       "    <tr>\n",
       "      <th>13482</th>\n",
       "      <td>0.103525</td>\n",
       "      <td>0.203507</td>\n",
       "      <td>0.193172</td>\n",
       "      <td>0.159461</td>\n",
       "      <td>-0.140722</td>\n",
       "      <td>0.184025</td>\n",
       "      <td>-0.911842</td>\n",
       "    </tr>\n",
       "    <tr>\n",
       "      <th>13483</th>\n",
       "      <td>-0.324915</td>\n",
       "      <td>-0.348858</td>\n",
       "      <td>-0.345351</td>\n",
       "      <td>-0.338835</td>\n",
       "      <td>-0.128835</td>\n",
       "      <td>-0.199626</td>\n",
       "      <td>0.694409</td>\n",
       "    </tr>\n",
       "    <tr>\n",
       "      <th>13484</th>\n",
       "      <td>-0.208596</td>\n",
       "      <td>-0.135942</td>\n",
       "      <td>-0.113174</td>\n",
       "      <td>-0.105053</td>\n",
       "      <td>0.135234</td>\n",
       "      <td>-0.291641</td>\n",
       "      <td>-0.900455</td>\n",
       "    </tr>\n",
       "  </tbody>\n",
       "</table>\n",
       "<p>13485 rows × 7 columns</p>\n",
       "</div>"
      ],
      "text/plain": [
       "          carat         x         y         z    labcol    labcut   labclar\n",
       "0      0.573175  0.459790  0.445590  0.429263  0.248454 -0.092642 -0.083272\n",
       "1      0.545743  0.457230  0.469686  0.468795  0.174544 -0.110978 -0.099752\n",
       "2     -0.286909 -0.233752 -0.232105 -0.232515  0.668161 -0.249140 -0.496586\n",
       "3     -0.343113 -0.412897 -0.413622 -0.420826  0.463656 -0.172886 -0.344595\n",
       "4      0.115799  0.115135  0.075006  0.308283  0.287511 -0.856978  0.235789\n",
       "...         ...       ...       ...       ...       ...       ...       ...\n",
       "13480 -0.293218 -0.233513 -0.264050 -0.285058 -0.479770  0.230791  0.651974\n",
       "13481  0.208233  0.246311  0.272812  0.306044 -0.161565  0.672903 -0.498978\n",
       "13482  0.103525  0.203507  0.193172  0.159461 -0.140722  0.184025 -0.911842\n",
       "13483 -0.324915 -0.348858 -0.345351 -0.338835 -0.128835 -0.199626  0.694409\n",
       "13484 -0.208596 -0.135942 -0.113174 -0.105053  0.135234 -0.291641 -0.900455\n",
       "\n",
       "[13485 rows x 7 columns]"
      ]
     },
     "execution_count": 14,
     "metadata": {},
     "output_type": "execute_result"
    }
   ],
   "source": [
    "y_ready"
   ]
  },
  {
   "cell_type": "code",
   "execution_count": 15,
   "metadata": {},
   "outputs": [],
   "source": [
    "y_ready.to_csv(\"outputs/predict3.csv\", index = False)"
   ]
  },
  {
   "cell_type": "code",
   "execution_count": 27,
   "metadata": {},
   "outputs": [
    {
     "data": {
      "text/plain": [
       "0        5\n",
       "1        4\n",
       "2        5\n",
       "3        5\n",
       "4        4\n",
       "        ..\n",
       "13480    1\n",
       "13481    2\n",
       "13482    2\n",
       "13483    2\n",
       "13484    3\n",
       "Name: labcol, Length: 13485, dtype: int64"
      ]
     },
     "execution_count": 27,
     "metadata": {},
     "output_type": "execute_result"
    }
   ],
   "source": [
    "from sklearn import preprocessing\n",
    "le = preprocessing.LabelEncoder()\n",
    "predict1[\"labcol\"] = le.fit_transform(predict1[\"color\"])\n",
    "predict1[\"labcol\"]"
   ]
  },
  {
   "cell_type": "code",
   "execution_count": 28,
   "metadata": {},
   "outputs": [],
   "source": [
    "predict1.drop([\"id\", \"cut\", \"color\", \"clarity\"], axis=1, inplace = True)"
   ]
  },
  {
   "cell_type": "code",
   "execution_count": 29,
   "metadata": {},
   "outputs": [],
   "source": [
    "predict1.drop([\"depth\", \"table\"], axis=1, inplace = True)\n"
   ]
  },
  {
   "cell_type": "code",
   "execution_count": 30,
   "metadata": {},
   "outputs": [
    {
     "data": {
      "text/html": [
       "<div>\n",
       "<style scoped>\n",
       "    .dataframe tbody tr th:only-of-type {\n",
       "        vertical-align: middle;\n",
       "    }\n",
       "\n",
       "    .dataframe tbody tr th {\n",
       "        vertical-align: top;\n",
       "    }\n",
       "\n",
       "    .dataframe thead th {\n",
       "        text-align: right;\n",
       "    }\n",
       "</style>\n",
       "<table border=\"1\" class=\"dataframe\">\n",
       "  <thead>\n",
       "    <tr style=\"text-align: right;\">\n",
       "      <th></th>\n",
       "      <th>carat</th>\n",
       "      <th>x</th>\n",
       "      <th>y</th>\n",
       "      <th>z</th>\n",
       "      <th>labcol</th>\n",
       "    </tr>\n",
       "  </thead>\n",
       "  <tbody>\n",
       "    <tr>\n",
       "      <th>0</th>\n",
       "      <td>2.36</td>\n",
       "      <td>8.68</td>\n",
       "      <td>8.57</td>\n",
       "      <td>5.24</td>\n",
       "      <td>5</td>\n",
       "    </tr>\n",
       "    <tr>\n",
       "      <th>1</th>\n",
       "      <td>2.04</td>\n",
       "      <td>8.18</td>\n",
       "      <td>8.23</td>\n",
       "      <td>5.09</td>\n",
       "      <td>4</td>\n",
       "    </tr>\n",
       "    <tr>\n",
       "      <th>2</th>\n",
       "      <td>0.51</td>\n",
       "      <td>5.18</td>\n",
       "      <td>5.19</td>\n",
       "      <td>3.20</td>\n",
       "      <td>5</td>\n",
       "    </tr>\n",
       "    <tr>\n",
       "      <th>3</th>\n",
       "      <td>0.30</td>\n",
       "      <td>4.32</td>\n",
       "      <td>4.33</td>\n",
       "      <td>2.65</td>\n",
       "      <td>5</td>\n",
       "    </tr>\n",
       "    <tr>\n",
       "      <th>4</th>\n",
       "      <td>0.96</td>\n",
       "      <td>6.11</td>\n",
       "      <td>5.98</td>\n",
       "      <td>4.16</td>\n",
       "      <td>4</td>\n",
       "    </tr>\n",
       "    <tr>\n",
       "      <th>...</th>\n",
       "      <td>...</td>\n",
       "      <td>...</td>\n",
       "      <td>...</td>\n",
       "      <td>...</td>\n",
       "      <td>...</td>\n",
       "    </tr>\n",
       "    <tr>\n",
       "      <th>13480</th>\n",
       "      <td>0.53</td>\n",
       "      <td>5.23</td>\n",
       "      <td>5.17</td>\n",
       "      <td>3.16</td>\n",
       "      <td>1</td>\n",
       "    </tr>\n",
       "    <tr>\n",
       "      <th>13481</th>\n",
       "      <td>1.01</td>\n",
       "      <td>6.32</td>\n",
       "      <td>6.38</td>\n",
       "      <td>3.99</td>\n",
       "      <td>2</td>\n",
       "    </tr>\n",
       "    <tr>\n",
       "      <th>13482</th>\n",
       "      <td>0.92</td>\n",
       "      <td>6.29</td>\n",
       "      <td>6.26</td>\n",
       "      <td>3.81</td>\n",
       "      <td>2</td>\n",
       "    </tr>\n",
       "    <tr>\n",
       "      <th>13483</th>\n",
       "      <td>0.39</td>\n",
       "      <td>4.70</td>\n",
       "      <td>4.72</td>\n",
       "      <td>2.92</td>\n",
       "      <td>2</td>\n",
       "    </tr>\n",
       "    <tr>\n",
       "      <th>13484</th>\n",
       "      <td>0.62</td>\n",
       "      <td>5.46</td>\n",
       "      <td>5.51</td>\n",
       "      <td>3.41</td>\n",
       "      <td>3</td>\n",
       "    </tr>\n",
       "  </tbody>\n",
       "</table>\n",
       "<p>13485 rows × 5 columns</p>\n",
       "</div>"
      ],
      "text/plain": [
       "       carat     x     y     z  labcol\n",
       "0       2.36  8.68  8.57  5.24       5\n",
       "1       2.04  8.18  8.23  5.09       4\n",
       "2       0.51  5.18  5.19  3.20       5\n",
       "3       0.30  4.32  4.33  2.65       5\n",
       "4       0.96  6.11  5.98  4.16       4\n",
       "...      ...   ...   ...   ...     ...\n",
       "13480   0.53  5.23  5.17  3.16       1\n",
       "13481   1.01  6.32  6.38  3.99       2\n",
       "13482   0.92  6.29  6.26  3.81       2\n",
       "13483   0.39  4.70  4.72  2.92       2\n",
       "13484   0.62  5.46  5.51  3.41       3\n",
       "\n",
       "[13485 rows x 5 columns]"
      ]
     },
     "execution_count": 30,
     "metadata": {},
     "output_type": "execute_result"
    }
   ],
   "source": [
    "predict1"
   ]
  },
  {
   "cell_type": "code",
   "execution_count": null,
   "metadata": {},
   "outputs": [],
   "source": []
  },
  {
   "cell_type": "code",
   "execution_count": 31,
   "metadata": {},
   "outputs": [],
   "source": [
    "predict1.to_csv(\"outputs/predict1.csv\", index = False)"
   ]
  },
  {
   "cell_type": "code",
   "execution_count": 7,
   "metadata": {},
   "outputs": [],
   "source": [
    "predict2.to_csv(\"outputs/predict.csv\", index = False)"
   ]
  },
  {
   "cell_type": "markdown",
   "metadata": {},
   "source": []
  }
 ],
 "metadata": {
  "kernelspec": {
   "display_name": "Python 3",
   "language": "python",
   "name": "python3"
  },
  "language_info": {
   "codemirror_mode": {
    "name": "ipython",
    "version": 3
   },
   "file_extension": ".py",
   "mimetype": "text/x-python",
   "name": "python",
   "nbconvert_exporter": "python",
   "pygments_lexer": "ipython3",
   "version": "3.8.2"
  }
 },
 "nbformat": 4,
 "nbformat_minor": 4
}
